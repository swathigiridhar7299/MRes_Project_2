{
 "cells": [
  {
   "cell_type": "code",
   "execution_count": null,
   "id": "01239d32",
   "metadata": {},
   "outputs": [],
   "source": [
    "import numpy as np\n",
    "import pandas as pd"
   ]
  },
  {
   "cell_type": "code",
   "execution_count": null,
   "id": "7e00753b",
   "metadata": {},
   "outputs": [],
   "source": [
    "df1 =  pd.read_csv('Metab_data.csv')\n",
    "df2 = pd.read_csv('Flow_Cyt_Data.csv')"
   ]
  },
  {
   "cell_type": "code",
   "execution_count": null,
   "id": "759472e9",
   "metadata": {},
   "outputs": [],
   "source": [
    "df_1 = df1.copy()\n",
    "df_1 = df_1[(df_1['Treatment']!='Stability assay')& (df_1['Treatment']!='Blank media')]\n",
    "df_1[['Day','Circuit_Number']] = df_1['Sample ID (day_circuit No.)'].str.split('_',expand=True)\n",
    "df_1.drop(['Sample ID (day_circuit No.)'],axis=1,inplace=True)\n",
    "df_1.drop(['Circuit_Number'],axis=1,inplace=True)\n",
    "new_order = ['Treatment','Day','4-hydroxyproline', 'Alanine', 'Arginine', 'Aspartic acid',\n",
    "       'Asparagine', 'Cystine', 'Ethanolamine', 'Glutamic acid', 'Glutamine',\n",
    "       'Glycine', 'Histidine', 'Isoleucine', 'Leucine', 'Lysine', 'Methionine',\n",
    "       'Phenylalanine', 'Proline', 'Serine', 'Tryptophan', 'Tyrosine',\n",
    "       'Valine', 'Citrulline', 'Ornithine', 'Aminoadipic acid',\n",
    "       'Alpha-amino-n-butyric acid', 'Sarcosine']\n",
    "df_1 = df_1.reindex(columns=new_order)"
   ]
  },
  {
   "cell_type": "code",
   "execution_count": null,
   "id": "aed7aa29",
   "metadata": {},
   "outputs": [],
   "source": [
    "df2.drop(['Circuit number ','Treatment code','Compound_2','Compound_2_Nominal_Concentration_(uM)','Sampler',\n",
    "          'Unit_No','Incubator_Location','Circuit_location', 'Chip_Location',\n",
    "       'Scaling Factor', 'Sample Quality','Compound_1'],axis=1,inplace=True)\n",
    "\n",
    "df2['Treatment Info'] = df2['Treatment Info'].replace('Vehicle','Control')\n",
    "df2['Treatment Info'] = df2['Treatment Info'].replace('Niraparib-M','Niraparib (medium)')\n",
    "df2['Treatment Info'] = df2['Treatment Info'].replace('Imatinib-H','Imatinib (high)')\n",
    "df2['Treatment Info'] = df2['Treatment Info'].replace('Imatinib-M','Imatinib (medium)')\n",
    "df2['Treatment Info'] = df2['Treatment Info'].replace('Imatinib-L','Imatinib (low)')\n",
    "df2['Treatment Info'] = df2['Treatment Info'].replace('Sunitinib-H','Sunitinib (high)')\n",
    "df2['Treatment Info'] = df2['Treatment Info'].replace('Sunitinib-M','Sunitinib (medium)')\n",
    "df2['Treatment Info'] = df2['Treatment Info'].replace('Sunitinib-L','Sunitinib (low)')\n",
    "df2['Treatment Info'] = df2['Treatment Info'].replace('Niraparib-H','Niraparib (high)')\n",
    "df2['Treatment Info'] = df2['Treatment Info'].replace('Niraparib -L','Niraparib (low)')\n",
    "\n",
    "df2 = df2.sort_values('Treatment Info',ascending=True)\n",
    "df2.rename(columns={'Treatment Info':'Treatment','Timepoint':'Day'},inplace=True)"
   ]
  },
  {
   "cell_type": "code",
   "execution_count": null,
   "id": "bfc177fd",
   "metadata": {},
   "outputs": [],
   "source": [
    "df_2 = df2.copy()\n",
    "df_2.rename(columns = {'All Cells/Single Cells | Count':'Total Cell Count',\n",
    "                            'All Cells/Single Cells/Non Viable Cells | Count':'Non Viable Cell Count',\n",
    "                            'All Cells/Single Cells/Viable Cells | Count':'Viable Cell Count',\n",
    "                             'All Cells/Single Cells/Viable Cells/EdU- Non Proliferating | Count':'Non Proliferating Cell Count',\n",
    "                           'All Cells/Single Cells/Viable Cells/EdU+ Proliferating | Count':'Proliferating Cell Count',\n",
    "                            'All Cells/Single Cells/Viable Cells/CD13+ | Count': 'CD13+ Count',\n",
    "                            'All Cells/Single Cells/Viable Cells/CD13- | Count':'CD13- Count',\n",
    "                            'All Cells/Single Cells/Viable Cells/CD16+ | Count': 'CD16+ Count',\n",
    "                            'All Cells/Single Cells/Viable Cells/CD16- | Count': 'CD16- Count',\n",
    "                           'All Cells/Single Cells/Viable Cells/CD34+ | Count': 'CD34+ Count',\n",
    "                            'All Cells/Single Cells/Viable Cells/CD34- | Count': 'CD34- Count',\n",
    "                            'All Cells/Single Cells/Viable Cells/CD36+ | Count':'CD36+ Count',\n",
    "                            'All Cells/Single Cells/Viable Cells/CD36- | Count':'CD36- Count',\n",
    "                             'All Cells/Single Cells/Viable Cells/CD38+ | Count':'CD38+ Count',\n",
    "                            'All Cells/Single Cells/Viable Cells/CD38- | Count':'CD38- Count',\n",
    "                            'All Cells/Single Cells/Viable Cells/CD41a+ | Count':'CD41a+ Count',\n",
    "                            'All Cells/Single Cells/Viable Cells/CD41a- | Count':'CD41a- Count',\n",
    "                            'All Cells/Single Cells/Viable Cells/CD71+ | Count':'CD71+ Count',\n",
    "                            'All Cells/Single Cells/Viable Cells/CD71- | Count':'CD71- Count',\n",
    "                            'All Cells/Single Cells/Viable Cells/CD235a+ | Count':'CD235a+ Count',\n",
    "                            'All Cells/Single Cells/Viable Cells/CD235a- | Count':'CD235a- Count'},inplace=True)\n",
    "df_2.rename(columns = {'All Cells/Single Cells/Viable Cells/CD13-/CD41+ CD16-/CD36+- Megakaryocytes V3/Megakaryocytes Proliferating | Count':'Megakaryocytes Proliferating Count',\n",
    "                             'All Cells/Single Cells/Viable Cells/CD13-/CD41+ CD16-/CD36+- Megakaryocytes V3/Megakaryocytes Non-Proliferating | Count' : 'Megakaryocytes Non-Proliferating Count',\n",
    "                             'All Cells/Single Cells/Viable Cells/CD13-/CD36-/CD71+- CD235+ Later Erythroid V3/Later Erythroid Proliferating | Count' : 'Later Erythroid Proliferating Count',\n",
    "                             'All Cells/Single Cells/Viable Cells/CD13-/CD36-/CD71+- CD235+ Later Erythroid V3/Later Erythroid Non-Proliferating | Count': 'Later Erythroid Non-Proliferating Count',\n",
    "                             'All Cells/Single Cells/Viable Cells/CD13-/CD36-/CD41- CD16-/CD34+ CD38- HSCs V3/HSCs Proliferating | Count' : 'HSCs Proliferating Count',\n",
    "                             'All Cells/Single Cells/Viable Cells/CD13-/CD36-/CD41- CD16-/CD34+ CD38- HSCs V3/HSCs Non-Proliferating | Count':'HSCs Non-Proliferating Count',\n",
    "                             'All Cells/Single Cells/Viable Cells/CD13-/CD36+/CD71+ CD235+- Early Erythroid V3/Early Erythroid Proliferating | Count': 'Early Erythroid Proliferating Count',\n",
    "                             'All Cells/Single Cells/Viable Cells/CD13-/CD36+/CD71+ CD235+- Early Erythroid V3/Early Erythroid Non-Proliferating | Count':'Early Erythroid Non-Proliferating Count',\n",
    "                             'All Cells/Single Cells/Viable Cells/CD13+ CD235-/CD41-/CD36+ CD16+- Late Monocytes/Late Monocytes Proliferating | Count':'Late Monocytes Proliferating Count',\n",
    "                             'All Cells/Single Cells/Viable Cells/CD13+ CD235-/CD41-/CD36+ CD16+- Late Monocytes/Late Monocytes Non-Proliferating | Count':'Late Monocytes Non-Proliferating Count',\n",
    "                             'All Cells/Single Cells/Viable Cells/CD13+ CD235-/CD41- CD16+ Late Granulocytes/Late Granulocytes Proliferating | Count':'Late Granulocytes Proliferating Count',\n",
    "                             'All Cells/Single Cells/Viable Cells/CD13+ CD235-/CD41- CD16+ Late Granulocytes/Late Granulocytes Non-Proliferating | Count':'Late Granulocytes Non-Proliferating Count',\n",
    "                             'All Cells/Single Cells/Viable Cells/CD13+ CD235-/CD41- CD16- Early Granulocytes/Early Granulocytes Proliferating | Count':'Early Granulocytes Proliferating Count',\n",
    "                             'All Cells/Single Cells/Viable Cells/CD13+ CD235-/CD41- CD16- Early Granulocytes/Early Granulocytes Non-Proliferating | Count':'Early Granulocytes Non-Proliferating Count',\n",
    "                             ' All Cells/Single Cells/Viable Cells/CD34+ CD38+ Lineage Differentiated Progenitors/Progenitors Proliferating | Count':'Progenitors Proliferating Count',\n",
    "                             'All Cells/Single Cells/Viable Cells/CD34+ CD38+ Lineage Differentiated Progenitors/Progenitors Non-Proliferating | Count': 'Progenitors Non-Proliferating Count'\n",
    "                            },inplace=True)\n",
    "df_2.rename(columns = {\n",
    "'All Cells/Single Cells | Count': 'All cells Count',\n",
    "'All Cells/Single Cells/Viable Cells/CD13-/CD41+ CD16-/CD36+- Megakaryocytes V3 | Count':'Megakaryocytes Count',\n",
    "'All Cells/Single Cells/Viable Cells/CD13-/CD36-/CD71+- CD235+ Later Erythroid V3 | Count'  : 'Later Erythroid Count',\n",
    "'All Cells/Single Cells/Viable Cells/CD13-/CD36-/CD41- CD16-/CD34+ CD38- HSCs V3 | Count': 'HSCs Count',\n",
    "'All Cells/Single Cells/Viable Cells/CD13-/CD36+/CD71+ CD235+- Early Erythroid V3 | Count': 'Early Erythroid Count',\n",
    "'All Cells/Single Cells/Viable Cells/CD13+ CD235-/CD41-/CD36+ CD16+- Late Monocytes | Count' :'Late Monocytes Count',\n",
    "'All Cells/Single Cells/Viable Cells/CD13+ CD235-/CD41- CD16+ Late Granulocytes | Count':'Late Granulocytes Count',\n",
    "'All Cells/Single Cells/Viable Cells/CD13+ CD235-/CD41- CD16- Early Granulocytes | Count': 'Early Granulocytes Count',\n",
    "'All Cells/Single Cells/Viable Cells/CD34+ CD38+ Lineage Differentiated Progenitors | Count': 'Progenitors Count'    \n",
    "                            },inplace=True)"
   ]
  },
  {
   "cell_type": "markdown",
   "id": "8e06d55f",
   "metadata": {},
   "source": [
    "## Normalising the metabolites dataset\n"
   ]
  },
  {
   "cell_type": "code",
   "execution_count": null,
   "id": "0575791f",
   "metadata": {},
   "outputs": [],
   "source": [
    "int_cols_metab= df_1[['4-hydroxyproline', 'Alanine', 'Arginine',\n",
    "       'Aspartic acid', 'Asparagine', 'Cystine', 'Ethanolamine',\n",
    "       'Glutamic acid', 'Glutamine', 'Glycine', 'Histidine', 'Isoleucine',\n",
    "       'Leucine', 'Lysine', 'Methionine', 'Phenylalanine', 'Proline', 'Serine',\n",
    "       'Tryptophan', 'Tyrosine', 'Valine', 'Citrulline', 'Ornithine',\n",
    "       'Aminoadipic acid', 'Alpha-amino-n-butyric acid', 'Sarcosine']]"
   ]
  },
  {
   "cell_type": "code",
   "execution_count": null,
   "id": "c3de6b26",
   "metadata": {},
   "outputs": [],
   "source": [
    "df_1['Total'] = int_cols_metab.sum(axis=1)\n",
    "df_norm_metab = df_1.iloc[:,2:].div(df_1['Total'],axis=0)\n",
    "df_norm_metab = df_1.iloc[:,:2].join(df_norm_metab)\n",
    "df_norm_metab = df_norm_metab.sort_values(['Treatment','Day'])"
   ]
  },
  {
   "cell_type": "code",
   "execution_count": null,
   "id": "143e3521",
   "metadata": {},
   "outputs": [],
   "source": [
    "df_norm_metab.to_csv(\"Metabolite_Data_Normalised.csv\")"
   ]
  },
  {
   "cell_type": "markdown",
   "id": "7adc1a48",
   "metadata": {},
   "source": [
    "## Normalising the cell count dataset"
   ]
  },
  {
   "cell_type": "code",
   "execution_count": null,
   "id": "bd07a090",
   "metadata": {},
   "outputs": [],
   "source": [
    "int_cols_cell = df_2[['Megakaryocytes Count',\n",
    "        'Later Erythroid Count','HSCs Count', 'Early Erythroid Count',\n",
    "        'Late Monocytes Count', 'Late Granulocytes Count','Early Granulocytes Count', \n",
    "        'Progenitors Count']]\n",
    "df_2['Total'] = int_cols_cell.sum(axis=1)\n",
    "df_norm_cell = df_2.iloc[:,2:].div(df_2['Total'],axis=0)\n",
    "df_norm_cell =  df_2.iloc[:,:2].join(df_norm_cell)\n",
    "df_norm_cell = df_norm_cell.sort_values(['Treatment','Day'])"
   ]
  },
  {
   "cell_type": "code",
   "execution_count": null,
   "id": "d6bf63f6",
   "metadata": {},
   "outputs": [],
   "source": [
    "df_norm_metab.to_csv(\"Cell_Data_Normalised.csv\")"
   ]
  }
 ],
 "metadata": {
  "kernelspec": {
   "display_name": "Python 3 (ipykernel)",
   "language": "python",
   "name": "python3"
  },
  "language_info": {
   "codemirror_mode": {
    "name": "ipython",
    "version": 3
   },
   "file_extension": ".py",
   "mimetype": "text/x-python",
   "name": "python",
   "nbconvert_exporter": "python",
   "pygments_lexer": "ipython3",
   "version": "3.9.7"
  }
 },
 "nbformat": 4,
 "nbformat_minor": 5
}
